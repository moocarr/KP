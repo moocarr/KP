{
 "cells": [
  {
   "cell_type": "code",
   "execution_count": 103,
   "metadata": {
    "collapsed": true
   },
   "outputs": [],
   "source": [
    "import os\n",
    "import numpy as np\n",
    "import matplotlib.pyplot as plt"
   ]
  },
  {
   "cell_type": "code",
   "execution_count": 104,
   "metadata": {},
   "outputs": [
    {
     "data": {
      "text/plain": [
       "array([  1,   2,  -3,   6,   7, -10,  88,  43, -98,  17,  39,  45])"
      ]
     },
     "execution_count": 104,
     "metadata": {},
     "output_type": "execute_result"
    }
   ],
   "source": [
    "ar = np.array([1,2,-3,6,7,-10,88,43,-98,17,39,45])\n",
    "ar"
   ]
  },
  {
   "cell_type": "code",
   "execution_count": 105,
   "metadata": {},
   "outputs": [],
   "source": [
    "#doklej do wektora ar wartości [4,5,9,10,23,-14,55,13]\n",
    "ar = np.append(ar,[4,5,9,10,23,-14,55,13])"
   ]
  },
  {
   "cell_type": "code",
   "execution_count": 106,
   "metadata": {},
   "outputs": [
    {
     "data": {
      "text/plain": [
       "array([  1,   2,  -3,   6,   7, -10,  88,  43, -98,  17,  39,  45,   4,\n",
       "         5,   9,  10,  23, -14,  55,  13])"
      ]
     },
     "execution_count": 106,
     "metadata": {},
     "output_type": "execute_result"
    }
   ],
   "source": [
    "ar"
   ]
  },
  {
   "cell_type": "code",
   "execution_count": 107,
   "metadata": {},
   "outputs": [
    {
     "data": {
      "text/plain": [
       "2"
      ]
     },
     "execution_count": 107,
     "metadata": {},
     "output_type": "execute_result"
    }
   ],
   "source": [
    "#znajdz index dla wartości 9 - użyj odpowiedniej funkcji\n",
    "[4,5,9,10,23,-14,55,13].index(9)"
   ]
  },
  {
   "cell_type": "code",
   "execution_count": 108,
   "metadata": {},
   "outputs": [
    {
     "data": {
      "text/plain": [
       "(array([ 2,  5,  8, 17], dtype=int64),)"
      ]
     },
     "execution_count": 108,
     "metadata": {},
     "output_type": "execute_result"
    }
   ],
   "source": [
    "#znajdź indeksy dla wartości mniejszych od zera - użyj odpowiedniej funkcji\n",
    "np.where(ar < 0 )"
   ]
  },
  {
   "cell_type": "code",
   "execution_count": 109,
   "metadata": {},
   "outputs": [
    {
     "name": "stdout",
     "output_type": "stream",
     "text": [
      "[-3, -10, -98, -14]\n"
     ]
    }
   ],
   "source": [
    "#wyświetl wartości mniejsze od zera\n",
    "print ([int for int in ar if int < 0])\n"
   ]
  },
  {
   "cell_type": "code",
   "execution_count": 110,
   "metadata": {},
   "outputs": [
    {
     "data": {
      "text/plain": [
       "12.1"
      ]
     },
     "execution_count": 110,
     "metadata": {},
     "output_type": "execute_result"
    }
   ],
   "source": [
    "#policz średnią, zaokrąglij do jednego miejsca po przecinku\n",
    "np.round(np.average(ar),2)"
   ]
  },
  {
   "cell_type": "code",
   "execution_count": 111,
   "metadata": {
    "collapsed": true
   },
   "outputs": [],
   "source": [
    "#stwórz zmienną ar_abs, wektor wartości bezwględnych z wektora ar\n",
    "ar_abs = np.abs(ar)"
   ]
  },
  {
   "cell_type": "code",
   "execution_count": 112,
   "metadata": {},
   "outputs": [
    {
     "data": {
      "text/plain": [
       "array([ 1,  2,  3,  6,  7, 10, 88, 43, 98, 17, 39, 45,  4,  5,  9, 10, 23,\n",
       "       14, 55, 13])"
      ]
     },
     "execution_count": 112,
     "metadata": {},
     "output_type": "execute_result"
    }
   ],
   "source": [
    "ar_abs"
   ]
  },
  {
   "cell_type": "code",
   "execution_count": 122,
   "metadata": {},
   "outputs": [
    {
     "data": {
      "text/plain": [
       "array([ 1.        ,  1.25992105,  1.44224957,  1.81712059,  1.91293118,\n",
       "        2.15443469,  4.44796018,  3.50339806,  4.61043629,  2.57128159,\n",
       "        3.39121144,  3.5568933 ,  1.58740105,  1.70997595,  2.08008382,\n",
       "        2.15443469,  2.84386698,  2.41014226,  3.80295246,  2.35133469])"
      ]
     },
     "execution_count": 122,
     "metadata": {},
     "output_type": "execute_result"
    }
   ],
   "source": [
    "#stwórz zmienną ar_p, wektor pierwiastków trzeciego stopnia z wektora ar_abs\n",
    "np.cbrt(ar_abs)"
   ]
  },
  {
   "cell_type": "raw",
   "metadata": {},
   "source": [
    "ar_p = np.cbrt(ar_abs)"
   ]
  },
  {
   "cell_type": "code",
   "execution_count": 123,
   "metadata": {},
   "outputs": [
    {
     "data": {
      "text/plain": [
       "array([ 1.        ,  1.25992105,  1.44224957,  1.81712059,  1.91293118,\n",
       "        2.15443469,  4.44796018,  3.50339806,  4.61043629,  2.57128159,\n",
       "        3.39121144,  3.5568933 ,  1.58740105,  1.70997595,  2.08008382,\n",
       "        2.15443469,  2.84386698,  2.41014226,  3.80295246,  2.35133469])"
      ]
     },
     "execution_count": 123,
     "metadata": {},
     "output_type": "execute_result"
    }
   ],
   "source": [
    "ar_p"
   ]
  },
  {
   "cell_type": "code",
   "execution_count": 128,
   "metadata": {},
   "outputs": [],
   "source": [
    "#zaokrąglij wektor ar_p do dwóch miejsc po przecinku\n",
    "ar_p = np.round(ar_p,2)"
   ]
  },
  {
   "cell_type": "code",
   "execution_count": 129,
   "metadata": {},
   "outputs": [
    {
     "data": {
      "text/plain": [
       "array([ 1.  ,  1.26,  1.44,  1.82,  1.91,  2.15,  4.45,  3.5 ,  4.61,\n",
       "        2.57,  3.39,  3.56,  1.59,  1.71,  2.08,  2.15,  2.84,  2.41,\n",
       "        3.8 ,  2.35])"
      ]
     },
     "execution_count": 129,
     "metadata": {},
     "output_type": "execute_result"
    }
   ],
   "source": [
    "ar_p"
   ]
  },
  {
   "cell_type": "code",
   "execution_count": 131,
   "metadata": {},
   "outputs": [],
   "source": [
    "#zsumuj zaokrąglony wektor ar_p i podnieś go do kwadratu, \n",
    "#zmienną nazwij ar_sq, zmień typ tej zmiennej na liczbę całkowitą\n",
    "ar_sq = np.square(np.sum(ar_p))"
   ]
  },
  {
   "cell_type": "code",
   "execution_count": 132,
   "metadata": {},
   "outputs": [
    {
     "data": {
      "text/plain": [
       "2559.3480999999997"
      ]
     },
     "execution_count": 132,
     "metadata": {},
     "output_type": "execute_result"
    }
   ],
   "source": [
    "ar_sq"
   ]
  },
  {
   "cell_type": "code",
   "execution_count": 133,
   "metadata": {
    "collapsed": true
   },
   "outputs": [],
   "source": [
    "ar_sq=int(ar_sq)"
   ]
  },
  {
   "cell_type": "code",
   "execution_count": 134,
   "metadata": {},
   "outputs": [
    {
     "data": {
      "text/plain": [
       "2559"
      ]
     },
     "execution_count": 134,
     "metadata": {},
     "output_type": "execute_result"
    }
   ],
   "source": [
    "ar_sq"
   ]
  },
  {
   "cell_type": "code",
   "execution_count": null,
   "metadata": {
    "collapsed": true
   },
   "outputs": [],
   "source": []
  }
 ],
 "metadata": {
  "kernelspec": {
   "display_name": "Python 3",
   "language": "python",
   "name": "python3"
  },
  "language_info": {
   "codemirror_mode": {
    "name": "ipython",
    "version": 3
   },
   "file_extension": ".py",
   "mimetype": "text/x-python",
   "name": "python",
   "nbconvert_exporter": "python",
   "pygments_lexer": "ipython3",
   "version": "3.6.3"
  }
 },
 "nbformat": 4,
 "nbformat_minor": 2
}
